{
  "nbformat": 4,
  "nbformat_minor": 0,
  "metadata": {
    "colab": {
      "provenance": []
    },
    "kernelspec": {
      "name": "python3",
      "display_name": "Python 3"
    },
    "language_info": {
      "name": "python"
    }
  },
  "cells": [
    {
      "cell_type": "code",
      "execution_count": null,
      "metadata": {
        "id": "ncBNwlZ4zW3_"
      },
      "outputs": [],
      "source": [
        "%%writefile grafo.c\n",
        "#include <stdio.h>\n",
        "\n",
        "#define NUM_VERTICES 3\n",
        "#define NUM_ARESTAS 3\n",
        "// Função para descrever o grafo\n",
        "void descreverGrafo(int grafo[NUM_VERTICES][NUM_VERTICES]) {\n",
        "    int ordem = NUM_VERTICES;\n",
        "    int tamanho = NUM_ARESTAS;\n",
        "    printf(\"Ordem do grafo: %d vértices\\n\", ordem);\n",
        "    printf(\"Tamanho do grafo: %d arestas\\n\", tamanho);\n",
        "    printf(\"Grau de cada vértice:\\n\");\n",
        "    int somagrau=0;\n",
        "    for (int i = 0; i < NUM_VERTICES; i++) {\n",
        "        int grau = 0;\n",
        "        for (int j = 0; j < NUM_VERTICES; j++) {\n",
        "            if (grafo[i][j] == 1 || grafo[j][i] == 1 ) {\n",
        "                grau++;\n",
        "            }\n",
        "        }\n",
        "    somagrau = somagrau + grau; // Cálculo do somatório dos graus de todos os vértices conectados\n",
        "    printf(\"Vértice %d: %d\\n\", i, grau);\n",
        "    }\n",
        "\n",
        "    float graumedio=0;\n",
        "    int tamGrafo = 0;\n",
        "    int tam=0;\n",
        "    graumedio=somagrau/(float)NUM_VERTICES; // Aqui, deve-se transformar o tipo de variável antes da divisão\n",
        "    for (int i = 0; i < NUM_VERTICES; i++) {\n",
        "        for (int j = 0; j < NUM_VERTICES; j++) {\n",
        "            if (grafo[i][j] == 1) {\n",
        "            tam++;\n",
        "            }\n",
        "        }\n",
        "        if (tam > tamGrafo) {\n",
        "        tamGrafo = tam;\n",
        "        }\n",
        "    }\n",
        "    printf(\"Tamanho do grafo: %d\\n\", tamGrafo);\n",
        "    printf(\"Grau médio do grafo: %f\\n\", graumedio);\n",
        "}\n",
        "\n",
        "int main() {\n",
        "    int grafo[NUM_VERTICES][NUM_VERTICES] = {0};\n",
        "    // Adicionar as arestas ao grafo\n",
        "    grafo[0][1] = 1;\n",
        "    grafo[1][2] = 1;\n",
        "    grafo[2][0] = 1;\n",
        "    descreverGrafo(grafo);\n",
        "    return 0;\n",
        "}\n"
      ]
    },
    {
      "cell_type": "code",
      "source": [
        "!gcc grafo.c -o grafo"
      ],
      "metadata": {
        "id": "IhcvUtIjEdLz"
      },
      "execution_count": null,
      "outputs": []
    },
    {
      "cell_type": "code",
      "source": [
        "!./grafo"
      ],
      "metadata": {
        "id": "uzCMMWfpEc2c"
      },
      "execution_count": null,
      "outputs": []
    }
  ]
}